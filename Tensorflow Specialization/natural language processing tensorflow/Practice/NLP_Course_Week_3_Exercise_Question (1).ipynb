{
  "nbformat": 4,
  "nbformat_minor": 0,
  "metadata": {
    "accelerator": "GPU",
    "colab": {
      "name": "NLP Course - Week 3 Exercise Question.ipynb",
      "provenance": [],
      "toc_visible": true
    },
    "kernelspec": {
      "display_name": "Python 3",
      "name": "python3"
    }
  },
  "cells": [
    {
      "cell_type": "code",
      "metadata": {
        "id": "zX4Kg8DUTKWO",
        "colab_type": "code",
        "colab": {}
      },
      "source": [
        "#@title Licensed under the Apache License, Version 2.0 (the \"License\");\n",
        "# you may not use this file except in compliance with the License.\n",
        "# You may obtain a copy of the License at\n",
        "#\n",
        "# https://www.apache.org/licenses/LICENSE-2.0\n",
        "#\n",
        "# Unless required by applicable law or agreed to in writing, software\n",
        "# distributed under the License is distributed on an \"AS IS\" BASIS,\n",
        "# WITHOUT WARRANTIES OR CONDITIONS OF ANY KIND, either express or implied.\n",
        "# See the License for the specific language governing permissions and\n",
        "# limitations under the License."
      ],
      "execution_count": null,
      "outputs": []
    },
    {
      "cell_type": "code",
      "metadata": {
        "colab_type": "code",
        "id": "hmA6EzkQJ5jt",
        "colab": {}
      },
      "source": [
        "import json\n",
        "import tensorflow as tf\n",
        "import csv\n",
        "import random\n",
        "import numpy as np\n",
        "\n",
        "from tensorflow.keras.preprocessing.text import Tokenizer\n",
        "from tensorflow.keras.preprocessing.sequence import pad_sequences\n",
        "from tensorflow.keras.utils import to_categorical\n",
        "from tensorflow.keras import regularizers\n",
        "\n",
        "\n",
        "embedding_dim = 100\n",
        "max_length = 16\n",
        "trunc_type='post'\n",
        "padding_type='post'\n",
        "oov_tok = \"<OOV>\"\n",
        "training_size=160000 #Your dataset size here. Experiment using smaller values (i.e. 16000), but don't forget to train on at least 160000 to see the best effects\n",
        "test_portion=.1\n",
        "\n",
        "corpus = []\n"
      ],
      "execution_count": 32,
      "outputs": []
    },
    {
      "cell_type": "code",
      "metadata": {
        "colab_type": "code",
        "id": "bM0l_dORKqE0",
        "colab": {
          "base_uri": "https://localhost:8080/",
          "height": 224
        },
        "outputId": "604c333b-156d-466c-f46d-f94e17e5e01f"
      },
      "source": [
        "# Note that I cleaned the Stanford dataset to remove LATIN1 encoding to make it easier for Python CSV reader\n",
        "# You can do that yourself with:\n",
        "# iconv -f LATIN1 -t UTF8 training.1600000.processed.noemoticon.csv -o training_cleaned.csv\n",
        "# I then hosted it on my site to make it easier to use in this notebook\n",
        "\n",
        "!wget --no-check-certificate \\\n",
        "    https://storage.googleapis.com/laurencemoroney-blog.appspot.com/training_cleaned.csv \\\n",
        "    -O /tmp/training_cleaned.csv\n",
        "\n",
        "num_sentences = 0\n",
        "\n",
        "with open(\"/tmp/training_cleaned.csv\") as csvfile:\n",
        "    reader = csv.reader(csvfile, delimiter=',')\n",
        "    for row in reader:\n",
        "      # Your Code here. Create list items where the first item is the text, found in row[5], and the second is the label. Note that the label is a '0' or a '4' in the text. When it's the former, make\n",
        "      # your label to be 0, otherwise 1. Keep a count of the number of sentences in num_sentences\n",
        "        list_item=[]\n",
        "        list_item.append(row[5])\n",
        "        if (row[0]=='0'):\n",
        "          list_item.append(0)\n",
        "        else:\n",
        "          list_item.append(1)\n",
        "        num_sentences = num_sentences + 1\n",
        "        corpus.append(list_item)\n"
      ],
      "execution_count": 33,
      "outputs": [
        {
          "output_type": "stream",
          "text": [
            "--2020-08-09 11:59:58--  https://storage.googleapis.com/laurencemoroney-blog.appspot.com/training_cleaned.csv\n",
            "Resolving storage.googleapis.com (storage.googleapis.com)... 64.233.166.128, 74.125.140.128, 108.177.15.128, ...\n",
            "Connecting to storage.googleapis.com (storage.googleapis.com)|64.233.166.128|:443... connected.\n",
            "HTTP request sent, awaiting response... 200 OK\n",
            "Length: 238942690 (228M) [application/octet-stream]\n",
            "Saving to: ‘/tmp/training_cleaned.csv’\n",
            "\n",
            "/tmp/training_clean 100%[===================>] 227.87M   156MB/s    in 1.5s    \n",
            "\n",
            "2020-08-09 12:00:00 (156 MB/s) - ‘/tmp/training_cleaned.csv’ saved [238942690/238942690]\n",
            "\n"
          ],
          "name": "stdout"
        }
      ]
    },
    {
      "cell_type": "code",
      "metadata": {
        "colab_type": "code",
        "id": "3kxblBUjEUX-",
        "colab": {
          "base_uri": "https://localhost:8080/",
          "height": 88
        },
        "outputId": "8257e04d-585e-4aeb-e65d-06111402cd90"
      },
      "source": [
        "print(num_sentences)\n",
        "print(len(corpus))\n",
        "print(corpus[1])\n",
        "\n",
        "# Expected Output:\n",
        "# 1600000\n",
        "# 1600000\n",
        "# [\"is upset that he can't update his Facebook by texting it... and might cry as a result  School today also. Blah!\", 0]"
      ],
      "execution_count": 34,
      "outputs": [
        {
          "output_type": "stream",
          "text": [
            "1600000\n",
            "1600000\n",
            "[\"is upset that he can't update his Facebook by texting it... and might cry as a result  School today also. Blah!\", 0]\n"
          ],
          "name": "stdout"
        }
      ]
    },
    {
      "cell_type": "code",
      "metadata": {
        "colab_type": "code",
        "id": "ohOGz24lsNAD",
        "colab": {
          "base_uri": "https://localhost:8080/",
          "height": 68
        },
        "outputId": "40bbf53a-cda9-4ee0-880f-53d221c0a690"
      },
      "source": [
        "sentences=[]\n",
        "labels=[]\n",
        "random.shuffle(corpus)\n",
        "for x in range(training_size):\n",
        "    sentences.append(corpus[x][0])\n",
        "    labels.append(corpus[x][1])\n",
        "\n",
        "\n",
        "tokenizer = Tokenizer()\n",
        "tokenizer.fit_on_texts(sentences)\n",
        "\n",
        "\n",
        "word_index = tokenizer.word_index\n",
        "\n",
        "vocab_size=len(word_index)\n",
        "\n",
        "sequences = tokenizer.texts_to_sequences(sentences)\n",
        "padded = pad_sequences(sequences,maxlen=max_length,padding=padding_type,truncating=trunc_type)\n",
        "\n",
        "split = int(test_portion * training_size)\n",
        "\n",
        "test_sequences = padded[0:split]\n",
        "training_sequences = padded[split:training_size]\n",
        "test_labels = labels[0:split]\n",
        "training_labels = labels[split:training_size]"
      ],
      "execution_count": 35,
      "outputs": [
        {
          "output_type": "stream",
          "text": [
            "160000\n",
            "138588\n",
            "138588\n"
          ],
          "name": "stdout"
        }
      ]
    },
    {
      "cell_type": "code",
      "metadata": {
        "colab_type": "code",
        "id": "gIrtRem1En3N",
        "colab": {
          "base_uri": "https://localhost:8080/",
          "height": 51
        },
        "outputId": "eedad5fd-eccd-45b8-cdab-3f544b81e50b"
      },
      "source": [
        "print(vocab_size)\n",
        "print(word_index['i'])\n",
        "# Expected Output\n",
        "# 138858\n",
        "# 1"
      ],
      "execution_count": 36,
      "outputs": [
        {
          "output_type": "stream",
          "text": [
            "138588\n",
            "1\n"
          ],
          "name": "stdout"
        }
      ]
    },
    {
      "cell_type": "code",
      "metadata": {
        "colab_type": "code",
        "id": "C1zdgJkusRh0",
        "colab": {
          "base_uri": "https://localhost:8080/",
          "height": 204
        },
        "outputId": "33e50de6-a87b-4e5f-9408-a41a24b29953"
      },
      "source": [
        "# Note this is the 100 dimension version of GloVe from Stanford\n",
        "# I unzipped and hosted it on my site to make this notebook easier\n",
        "!wget --no-check-certificate \\\n",
        "    https://storage.googleapis.com/laurencemoroney-blog.appspot.com/glove.6B.100d.txt \\\n",
        "    -O /tmp/glove.6B.100d.txt\n",
        "embeddings_index = {};\n",
        "with open('/tmp/glove.6B.100d.txt') as f:\n",
        "    for line in f:\n",
        "        values = line.split();\n",
        "        word = values[0];\n",
        "        coefs = np.asarray(values[1:], dtype='float32');\n",
        "        embeddings_index[word] = coefs;\n",
        "\n",
        "embeddings_matrix = np.zeros((vocab_size+1, embedding_dim));\n",
        "for word, i in word_index.items():\n",
        "    embedding_vector = embeddings_index.get(word);\n",
        "    if embedding_vector is not None:\n",
        "        embeddings_matrix[i] = embedding_vector;"
      ],
      "execution_count": 37,
      "outputs": [
        {
          "output_type": "stream",
          "text": [
            "--2020-08-09 12:00:43--  https://storage.googleapis.com/laurencemoroney-blog.appspot.com/glove.6B.100d.txt\n",
            "Resolving storage.googleapis.com (storage.googleapis.com)... 64.233.167.128, 64.233.166.128, 74.125.71.128, ...\n",
            "Connecting to storage.googleapis.com (storage.googleapis.com)|64.233.167.128|:443... connected.\n",
            "HTTP request sent, awaiting response... 200 OK\n",
            "Length: 347116733 (331M) [text/plain]\n",
            "Saving to: ‘/tmp/glove.6B.100d.txt’\n",
            "\n",
            "/tmp/glove.6B.100d. 100%[===================>] 331.04M   156MB/s    in 2.1s    \n",
            "\n",
            "2020-08-09 12:00:45 (156 MB/s) - ‘/tmp/glove.6B.100d.txt’ saved [347116733/347116733]\n",
            "\n"
          ],
          "name": "stdout"
        }
      ]
    },
    {
      "cell_type": "code",
      "metadata": {
        "colab_type": "code",
        "id": "71NLk_lpFLNt",
        "colab": {
          "base_uri": "https://localhost:8080/",
          "height": 34
        },
        "outputId": "d503a0f5-77a8-49d6-a02a-7d1598350556"
      },
      "source": [
        "print(len(embeddings_matrix))\n",
        "# Expected Output\n",
        "# 138859"
      ],
      "execution_count": 38,
      "outputs": [
        {
          "output_type": "stream",
          "text": [
            "138589\n"
          ],
          "name": "stdout"
        }
      ]
    },
    {
      "cell_type": "code",
      "metadata": {
        "colab_type": "code",
        "id": "iKKvbuEBOGFz",
        "colab": {
          "base_uri": "https://localhost:8080/",
          "height": 1000
        },
        "outputId": "46c19842-bee4-4805-9685-8a4d54a33d2f"
      },
      "source": [
        "model = tf.keras.Sequential([\n",
        "    tf.keras.layers.Embedding(vocab_size+1, embedding_dim, input_length=max_length, weights=[embeddings_matrix], trainable=False),\n",
        "    tf.keras.layers.Conv1D(128,5,activation='relu'),\n",
        "    tf.keras.layers.MaxPooling1D(pool_size=4),\n",
        "    tf.keras.layers.LSTM(64),\n",
        "    tf.keras.layers.Dense(1, activation='sigmoid')\n",
        "])\n",
        "    # YOUR CODE HERE - experiment with combining different types, such as convolutions and LSTMs\n",
        "model.compile(loss='binary_crossentropy',optimizer='adam',metrics=['accuracy'])\n",
        "model.summary()\n",
        "\n",
        "training_padded = np.array(training_sequences)\n",
        "training_labels = np.array(training_labels)\n",
        "testing_padded = np.array(test_sequences)\n",
        "testing_labels = np.array(test_labels)\n",
        "\n",
        "num_epochs = 50\n",
        "history = model.fit(training_padded, training_labels, epochs=num_epochs, validation_data=(testing_padded, testing_labels), verbose=2)\n",
        "\n",
        "print(\"Training Complete\")\n"
      ],
      "execution_count": 46,
      "outputs": [
        {
          "output_type": "stream",
          "text": [
            "Model: \"sequential_6\"\n",
            "_________________________________________________________________\n",
            "Layer (type)                 Output Shape              Param #   \n",
            "=================================================================\n",
            "embedding_6 (Embedding)      (None, 16, 100)           13858900  \n",
            "_________________________________________________________________\n",
            "conv1d_6 (Conv1D)            (None, 12, 128)           64128     \n",
            "_________________________________________________________________\n",
            "max_pooling1d_4 (MaxPooling1 (None, 3, 128)            0         \n",
            "_________________________________________________________________\n",
            "lstm_6 (LSTM)                (None, 64)                49408     \n",
            "_________________________________________________________________\n",
            "dense_7 (Dense)              (None, 1)                 65        \n",
            "=================================================================\n",
            "Total params: 13,972,501\n",
            "Trainable params: 113,601\n",
            "Non-trainable params: 13,858,900\n",
            "_________________________________________________________________\n",
            "Epoch 1/50\n",
            "4500/4500 - 21s - loss: 0.5467 - accuracy: 0.7168 - val_loss: 0.5216 - val_accuracy: 0.7362\n",
            "Epoch 2/50\n",
            "4500/4500 - 20s - loss: 0.4966 - accuracy: 0.7539 - val_loss: 0.5203 - val_accuracy: 0.7360\n",
            "Epoch 3/50\n",
            "4500/4500 - 20s - loss: 0.4669 - accuracy: 0.7730 - val_loss: 0.5120 - val_accuracy: 0.7451\n",
            "Epoch 4/50\n",
            "4500/4500 - 20s - loss: 0.4400 - accuracy: 0.7903 - val_loss: 0.5168 - val_accuracy: 0.7436\n",
            "Epoch 5/50\n",
            "4500/4500 - 21s - loss: 0.4139 - accuracy: 0.8046 - val_loss: 0.5276 - val_accuracy: 0.7441\n",
            "Epoch 6/50\n",
            "4500/4500 - 21s - loss: 0.3871 - accuracy: 0.8203 - val_loss: 0.5385 - val_accuracy: 0.7395\n",
            "Epoch 7/50\n",
            "4500/4500 - 21s - loss: 0.3622 - accuracy: 0.8334 - val_loss: 0.5695 - val_accuracy: 0.7372\n",
            "Epoch 8/50\n",
            "4500/4500 - 20s - loss: 0.3379 - accuracy: 0.8465 - val_loss: 0.6140 - val_accuracy: 0.7364\n",
            "Epoch 9/50\n",
            "4500/4500 - 21s - loss: 0.3147 - accuracy: 0.8583 - val_loss: 0.6382 - val_accuracy: 0.7274\n",
            "Epoch 10/50\n",
            "4500/4500 - 20s - loss: 0.2930 - accuracy: 0.8698 - val_loss: 0.7038 - val_accuracy: 0.7300\n",
            "Epoch 11/50\n",
            "4500/4500 - 20s - loss: 0.2732 - accuracy: 0.8782 - val_loss: 0.7145 - val_accuracy: 0.7204\n",
            "Epoch 12/50\n",
            "4500/4500 - 22s - loss: 0.2542 - accuracy: 0.8876 - val_loss: 0.7743 - val_accuracy: 0.7272\n",
            "Epoch 13/50\n",
            "4500/4500 - 20s - loss: 0.2387 - accuracy: 0.8959 - val_loss: 0.8215 - val_accuracy: 0.7203\n",
            "Epoch 14/50\n",
            "4500/4500 - 20s - loss: 0.2251 - accuracy: 0.9023 - val_loss: 0.8760 - val_accuracy: 0.7146\n",
            "Epoch 15/50\n",
            "4500/4500 - 20s - loss: 0.2108 - accuracy: 0.9095 - val_loss: 0.8934 - val_accuracy: 0.7172\n",
            "Epoch 16/50\n",
            "4500/4500 - 20s - loss: 0.1981 - accuracy: 0.9153 - val_loss: 0.9371 - val_accuracy: 0.7158\n",
            "Epoch 17/50\n",
            "4500/4500 - 20s - loss: 0.1874 - accuracy: 0.9205 - val_loss: 0.9998 - val_accuracy: 0.7161\n",
            "Epoch 18/50\n",
            "4500/4500 - 20s - loss: 0.1802 - accuracy: 0.9237 - val_loss: 1.0011 - val_accuracy: 0.7133\n",
            "Epoch 19/50\n",
            "4500/4500 - 21s - loss: 0.1717 - accuracy: 0.9275 - val_loss: 1.0952 - val_accuracy: 0.7175\n",
            "Epoch 20/50\n",
            "4500/4500 - 20s - loss: 0.1621 - accuracy: 0.9318 - val_loss: 1.1421 - val_accuracy: 0.7149\n",
            "Epoch 21/50\n",
            "4500/4500 - 20s - loss: 0.1576 - accuracy: 0.9346 - val_loss: 1.1615 - val_accuracy: 0.7081\n",
            "Epoch 22/50\n",
            "4500/4500 - 20s - loss: 0.1525 - accuracy: 0.9369 - val_loss: 1.1950 - val_accuracy: 0.7107\n",
            "Epoch 23/50\n",
            "4500/4500 - 20s - loss: 0.1466 - accuracy: 0.9395 - val_loss: 1.2143 - val_accuracy: 0.7058\n",
            "Epoch 24/50\n",
            "4500/4500 - 21s - loss: 0.1432 - accuracy: 0.9411 - val_loss: 1.2649 - val_accuracy: 0.7046\n",
            "Epoch 25/50\n",
            "4500/4500 - 20s - loss: 0.1386 - accuracy: 0.9432 - val_loss: 1.2792 - val_accuracy: 0.7038\n",
            "Epoch 26/50\n",
            "4500/4500 - 20s - loss: 0.1345 - accuracy: 0.9446 - val_loss: 1.3005 - val_accuracy: 0.7078\n",
            "Epoch 27/50\n",
            "4500/4500 - 22s - loss: 0.1303 - accuracy: 0.9461 - val_loss: 1.3239 - val_accuracy: 0.7043\n",
            "Epoch 28/50\n",
            "4500/4500 - 20s - loss: 0.1275 - accuracy: 0.9475 - val_loss: 1.3681 - val_accuracy: 0.7079\n",
            "Epoch 29/50\n",
            "4500/4500 - 21s - loss: 0.1269 - accuracy: 0.9483 - val_loss: 1.3673 - val_accuracy: 0.7040\n",
            "Epoch 30/50\n",
            "4500/4500 - 20s - loss: 0.1220 - accuracy: 0.9506 - val_loss: 1.3932 - val_accuracy: 0.7096\n",
            "Epoch 31/50\n",
            "4500/4500 - 21s - loss: 0.1205 - accuracy: 0.9519 - val_loss: 1.3719 - val_accuracy: 0.7044\n",
            "Epoch 32/50\n",
            "4500/4500 - 21s - loss: 0.1177 - accuracy: 0.9522 - val_loss: 1.4135 - val_accuracy: 0.7069\n",
            "Epoch 33/50\n",
            "4500/4500 - 20s - loss: 0.1156 - accuracy: 0.9535 - val_loss: 1.4075 - val_accuracy: 0.7101\n",
            "Epoch 34/50\n",
            "4500/4500 - 20s - loss: 0.1154 - accuracy: 0.9543 - val_loss: 1.4447 - val_accuracy: 0.7141\n",
            "Epoch 35/50\n",
            "4500/4500 - 21s - loss: 0.1150 - accuracy: 0.9541 - val_loss: 1.4667 - val_accuracy: 0.7129\n",
            "Epoch 36/50\n",
            "4500/4500 - 20s - loss: 0.1120 - accuracy: 0.9547 - val_loss: 1.4337 - val_accuracy: 0.7094\n",
            "Epoch 37/50\n",
            "4500/4500 - 20s - loss: 0.1102 - accuracy: 0.9563 - val_loss: 1.4023 - val_accuracy: 0.7067\n",
            "Epoch 38/50\n",
            "4500/4500 - 20s - loss: 0.1075 - accuracy: 0.9573 - val_loss: 1.4578 - val_accuracy: 0.7091\n",
            "Epoch 39/50\n",
            "4500/4500 - 20s - loss: 0.1095 - accuracy: 0.9570 - val_loss: 1.4792 - val_accuracy: 0.7071\n",
            "Epoch 40/50\n",
            "4500/4500 - 20s - loss: 0.1078 - accuracy: 0.9575 - val_loss: 1.5026 - val_accuracy: 0.7038\n",
            "Epoch 41/50\n",
            "4500/4500 - 20s - loss: 0.1050 - accuracy: 0.9582 - val_loss: 1.5290 - val_accuracy: 0.7092\n",
            "Epoch 42/50\n",
            "4500/4500 - 21s - loss: 0.1060 - accuracy: 0.9579 - val_loss: 1.5219 - val_accuracy: 0.7072\n",
            "Epoch 43/50\n",
            "4500/4500 - 20s - loss: 0.1019 - accuracy: 0.9595 - val_loss: 1.5056 - val_accuracy: 0.7075\n",
            "Epoch 44/50\n",
            "4500/4500 - 20s - loss: 0.1021 - accuracy: 0.9590 - val_loss: 1.5104 - val_accuracy: 0.7023\n",
            "Epoch 45/50\n",
            "4500/4500 - 20s - loss: 0.1003 - accuracy: 0.9600 - val_loss: 1.5787 - val_accuracy: 0.7073\n",
            "Epoch 46/50\n",
            "4500/4500 - 20s - loss: 0.1029 - accuracy: 0.9595 - val_loss: 1.5489 - val_accuracy: 0.7079\n",
            "Epoch 47/50\n",
            "4500/4500 - 20s - loss: 0.1007 - accuracy: 0.9606 - val_loss: 1.5521 - val_accuracy: 0.7074\n",
            "Epoch 48/50\n",
            "4500/4500 - 20s - loss: 0.1003 - accuracy: 0.9603 - val_loss: 1.5518 - val_accuracy: 0.7055\n",
            "Epoch 49/50\n",
            "4500/4500 - 20s - loss: 0.0990 - accuracy: 0.9607 - val_loss: 1.5669 - val_accuracy: 0.7091\n",
            "Epoch 50/50\n",
            "4500/4500 - 20s - loss: 0.0985 - accuracy: 0.9615 - val_loss: 1.5730 - val_accuracy: 0.7113\n",
            "Training Complete\n"
          ],
          "name": "stdout"
        }
      ]
    },
    {
      "cell_type": "code",
      "metadata": {
        "colab_type": "code",
        "id": "qxju4ItJKO8F",
        "colab": {
          "base_uri": "https://localhost:8080/",
          "height": 447
        },
        "outputId": "9e88ddea-a4e4-48e8-9c9e-19afe80a6c28"
      },
      "source": [
        "import matplotlib.image  as mpimg\n",
        "import matplotlib.pyplot as plt\n",
        "\n",
        "#-----------------------------------------------------------\n",
        "# Retrieve a list of list results on training and test data\n",
        "# sets for each training epoch\n",
        "#-----------------------------------------------------------\n",
        "acc=history.history['accuracy']\n",
        "val_acc=history.history['val_accuracy']\n",
        "loss=history.history['loss']\n",
        "val_loss=history.history['val_loss']\n",
        "\n",
        "epochs=range(len(acc)) # Get number of epochs\n",
        "\n",
        "#------------------------------------------------\n",
        "# Plot training and validation accuracy per epoch\n",
        "#------------------------------------------------\n",
        "plt.plot(epochs, acc, 'r')\n",
        "plt.plot(epochs, val_acc, 'b')\n",
        "plt.title('Training and validation accuracy')\n",
        "plt.xlabel(\"Epochs\")\n",
        "plt.ylabel(\"Accuracy\")\n",
        "plt.legend([\"Accuracy\", \"Validation Accuracy\"])\n",
        "\n",
        "plt.figure()\n",
        "\n",
        "#------------------------------------------------\n",
        "# Plot training and validation loss per epoch\n",
        "#------------------------------------------------\n",
        "plt.plot(epochs, loss, 'r')\n",
        "plt.plot(epochs, val_loss, 'b')\n",
        "plt.title('Training and validation loss')\n",
        "plt.xlabel(\"Epochs\")\n",
        "plt.ylabel(\"Loss\")\n",
        "plt.legend([\"Loss\", \"Validation Loss\"])\n",
        "\n",
        "plt.figure()\n",
        "\n",
        "\n",
        "# Expected Output\n",
        "# A chart where the validation loss does not increase sharply!"
      ],
      "execution_count": 2,
      "outputs": [
        {
          "output_type": "error",
          "ename": "NameError",
          "evalue": "ignored",
          "traceback": [
            "\u001b[0;31m---------------------------------------------------------------------------\u001b[0m",
            "\u001b[0;31mNameError\u001b[0m                                 Traceback (most recent call last)",
            "\u001b[0;32m<ipython-input-1-db7554fc2d0e>\u001b[0m in \u001b[0;36m<module>\u001b[0;34m()\u001b[0m\n\u001b[1;32m      6\u001b[0m \u001b[0;31m# sets for each training epoch\u001b[0m\u001b[0;34m\u001b[0m\u001b[0;34m\u001b[0m\u001b[0;34m\u001b[0m\u001b[0m\n\u001b[1;32m      7\u001b[0m \u001b[0;31m#-----------------------------------------------------------\u001b[0m\u001b[0;34m\u001b[0m\u001b[0;34m\u001b[0m\u001b[0;34m\u001b[0m\u001b[0m\n\u001b[0;32m----> 8\u001b[0;31m \u001b[0macc\u001b[0m\u001b[0;34m=\u001b[0m\u001b[0mhistory\u001b[0m\u001b[0;34m.\u001b[0m\u001b[0mhistory\u001b[0m\u001b[0;34m[\u001b[0m\u001b[0;34m'accuracy'\u001b[0m\u001b[0;34m]\u001b[0m\u001b[0;34m\u001b[0m\u001b[0;34m\u001b[0m\u001b[0m\n\u001b[0m\u001b[1;32m      9\u001b[0m \u001b[0mval_acc\u001b[0m\u001b[0;34m=\u001b[0m\u001b[0mhistory\u001b[0m\u001b[0;34m.\u001b[0m\u001b[0mhistory\u001b[0m\u001b[0;34m[\u001b[0m\u001b[0;34m'val_accuracy'\u001b[0m\u001b[0;34m]\u001b[0m\u001b[0;34m\u001b[0m\u001b[0;34m\u001b[0m\u001b[0m\n\u001b[1;32m     10\u001b[0m \u001b[0mloss\u001b[0m\u001b[0;34m=\u001b[0m\u001b[0mhistory\u001b[0m\u001b[0;34m.\u001b[0m\u001b[0mhistory\u001b[0m\u001b[0;34m[\u001b[0m\u001b[0;34m'loss'\u001b[0m\u001b[0;34m]\u001b[0m\u001b[0;34m\u001b[0m\u001b[0;34m\u001b[0m\u001b[0m\n",
            "\u001b[0;31mNameError\u001b[0m: name 'history' is not defined"
          ]
        },
        {
          "output_type": "error",
          "ename": "NameError",
          "evalue": "ignored",
          "traceback": [
            "\u001b[0;31m---------------------------------------------------------------------------\u001b[0m",
            "\u001b[0;31mNameError\u001b[0m                                 Traceback (most recent call last)",
            "\u001b[0;32m<ipython-input-2-db7554fc2d0e>\u001b[0m in \u001b[0;36m<module>\u001b[0;34m()\u001b[0m\n\u001b[1;32m      6\u001b[0m \u001b[0;31m# sets for each training epoch\u001b[0m\u001b[0;34m\u001b[0m\u001b[0;34m\u001b[0m\u001b[0;34m\u001b[0m\u001b[0m\n\u001b[1;32m      7\u001b[0m \u001b[0;31m#-----------------------------------------------------------\u001b[0m\u001b[0;34m\u001b[0m\u001b[0;34m\u001b[0m\u001b[0;34m\u001b[0m\u001b[0m\n\u001b[0;32m----> 8\u001b[0;31m \u001b[0macc\u001b[0m\u001b[0;34m=\u001b[0m\u001b[0mhistory\u001b[0m\u001b[0;34m.\u001b[0m\u001b[0mhistory\u001b[0m\u001b[0;34m[\u001b[0m\u001b[0;34m'accuracy'\u001b[0m\u001b[0;34m]\u001b[0m\u001b[0;34m\u001b[0m\u001b[0;34m\u001b[0m\u001b[0m\n\u001b[0m\u001b[1;32m      9\u001b[0m \u001b[0mval_acc\u001b[0m\u001b[0;34m=\u001b[0m\u001b[0mhistory\u001b[0m\u001b[0;34m.\u001b[0m\u001b[0mhistory\u001b[0m\u001b[0;34m[\u001b[0m\u001b[0;34m'val_accuracy'\u001b[0m\u001b[0;34m]\u001b[0m\u001b[0;34m\u001b[0m\u001b[0;34m\u001b[0m\u001b[0m\n\u001b[1;32m     10\u001b[0m \u001b[0mloss\u001b[0m\u001b[0;34m=\u001b[0m\u001b[0mhistory\u001b[0m\u001b[0;34m.\u001b[0m\u001b[0mhistory\u001b[0m\u001b[0;34m[\u001b[0m\u001b[0;34m'loss'\u001b[0m\u001b[0;34m]\u001b[0m\u001b[0;34m\u001b[0m\u001b[0;34m\u001b[0m\u001b[0m\n",
            "\u001b[0;31mNameError\u001b[0m: name 'history' is not defined"
          ]
        }
      ]
    }
  ]
}